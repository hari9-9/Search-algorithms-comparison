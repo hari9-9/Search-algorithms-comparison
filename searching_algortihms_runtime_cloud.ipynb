{
  "nbformat": 4,
  "nbformat_minor": 0,
  "metadata": {
    "language_info": {
      "codemirror_mode": {
        "name": "ipython",
        "version": 3
      },
      "file_extension": ".py",
      "mimetype": "text/x-python",
      "name": "python",
      "nbconvert_exporter": "python",
      "pygments_lexer": "ipython3",
      "version": "3.8.2-final"
    },
    "orig_nbformat": 2,
    "kernelspec": {
      "name": "Python 3.8.2 64-bit",
      "display_name": "Python 3.8.2 64-bit",
      "metadata": {
        "interpreter": {
          "hash": "4cf6131a78760f6141df6a02d26989e0d74ee97f7eda7860ad08a66086463ad1"
        }
      }
    },
    "colab": {
      "name": "searching_algortihms_runtime.ipynb",
      "provenance": []
    }
  },
  "cells": [
    {
      "cell_type": "code",
      "metadata": {
        "id": "JgdU1EMe6PUQ"
      },
      "source": [
        "import datetime\n",
        "import sys"
      ],
      "execution_count": 6,
      "outputs": []
    },
    {
      "source": [
        "## Generating Data Set"
      ],
      "cell_type": "markdown",
      "metadata": {}
    },
    {
      "cell_type": "code",
      "metadata": {
        "id": "kjc_gXsh7hSp"
      },
      "source": [
        "import random\n",
        "numLow=0\n",
        "numHigh=50000000\n",
        "data = list(range(numLow, numHigh))\n",
        "random.shuffle(data)\n",
        "#print(data)\n",
        "with open('search_data2.txt', 'w') as filehandle:\n",
        "    filehandle.writelines(\"%s\\n\" % place for place in data)"
      ],
      "execution_count": 1,
      "outputs": []
    },
    {
      "cell_type": "markdown",
      "metadata": {
        "id": "Pp1R0RjX6PUV"
      },
      "source": [
        "# Overview\n"
      ]
    },
    {
      "cell_type": "markdown",
      "metadata": {
        "id": "jqgCHCHe6PUW"
      },
      "source": [
        "The goal of this study is to compare the runtime of the popular searching algorithms. For this we have a data set of approximate size 0.5Gb filled with 5 Crore Distinct integers. we will run a fixed set of operations on each data structure and observe the runtime"
      ]
    },
    {
      "cell_type": "markdown",
      "metadata": {
        "id": "mGC53llv6PUW"
      },
      "source": [
        "## Unsorted Array Linear Search"
      ]
    },
    {
      "cell_type": "code",
      "metadata": {
        "id": "N4dqDIu-6PUX",
        "outputId": "f109237f-0f08-4d7d-9aa9-b099f31eab9c",
        "colab": {
          "base_uri": "https://localhost:8080/",
          "height": 34
        }
      },
      "source": [
        "\n",
        "# with open('search_data.txt', 'r') as filehandle:\n",
        "h = open('search_data2.txt', 'r') \n",
        "data= h.readlines()\n",
        "type(data)\n",
        "data=[int(x[:-1]) for x in data]\n",
        "print(data[-1])"
      ],
      "execution_count": 7,
      "outputs": [
        {
          "output_type": "stream",
          "text": [
            "38116127\n"
          ],
          "name": "stdout"
        }
      ]
    },
    {
      "cell_type": "code",
      "metadata": {
        "id": "2qwt1WW36PUc"
      },
      "source": [
        "def linear_search(d , key):\n",
        "    for i in range(len(d)):\n",
        "        if d[i]==key:\n",
        "            print(\"Element found\")\n",
        "            return\n",
        "    print(\"Not found\")\n",
        "    return\n",
        "\n",
        "def unsorted_delete(d , key):\n",
        "    found = False\n",
        "    for i in range(len(d)):\n",
        "        if d[i]==key:\n",
        "            ind=i\n",
        "            found =True\n",
        "            break\n",
        "    if(not found):\n",
        "        print(\"Element not found\")\n",
        "        return\n",
        "    for i in range(ind , len(d)-1):\n",
        "        d[i] = d[i+1]\n",
        "    print(\"Element deleted\")\n",
        "    return\n",
        "\n",
        "\n"
      ],
      "execution_count": 8,
      "outputs": []
    },
    {
      "cell_type": "code",
      "metadata": {
        "id": "pgy_t8oY6PUk",
        "outputId": "dd2a761e-ce67-4d45-9fb2-b2dde209b6d2",
        "colab": {
          "base_uri": "https://localhost:8080/",
          "height": 102
        }
      },
      "source": [
        "start = datetime.datetime.now()\n",
        "linear_search(data , 38116127)\n",
        "unsorted_delete(data , 38116127)\n",
        "data.append(100000006)\n",
        "unsorted_delete(data , 6899109)\n",
        "linear_search(data , 38116127)\n",
        "data.append(100000009)\n",
        "end = datetime.datetime.now()\n",
        "execution_time_unsorted = end - start\n",
        "print (\"Unsorted array took \",float(execution_time_unsorted.total_seconds() * 1000),\" Ms\")\n",
        " "
      ],
      "execution_count": 9,
      "outputs": [
        {
          "output_type": "stream",
          "text": [
            "Element found\n",
            "Element deleted\n",
            "Element deleted\n",
            "Element found\n",
            "Unsorted array took  13111.307999999999  Ms\n"
          ],
          "name": "stdout"
        }
      ]
    },
    {
      "cell_type": "markdown",
      "metadata": {
        "id": "6fGHQzIA6PUo"
      },
      "source": [
        "## Sorted array Binary Search"
      ]
    },
    {
      "cell_type": "code",
      "metadata": {
        "id": "saae58Zn6PUp"
      },
      "source": [
        "h = open('search_data2.txt', 'r') \n",
        "data= h.readlines()\n",
        "type(data)\n",
        "data=[int(x[:-1]) for x in data]"
      ],
      "execution_count": 10,
      "outputs": []
    },
    {
      "cell_type": "code",
      "metadata": {
        "id": "ctSS4zHy6PUs"
      },
      "source": [
        "def binarySearch(arr, l, r, x): \n",
        "  \n",
        "    while l <= r: \n",
        "  \n",
        "        mid = l + (r - l) // 2\n",
        "        # Check if x is present at mid\n",
        "        if arr[mid] == x:\n",
        "            print('element found') \n",
        "            return mid \n",
        "        #print('is ',arr[mid] ,' greater or lesser than target ' , x)\n",
        "        # If x is greater, ignore left half \n",
        "        elif arr[mid] < x: \n",
        "            l = mid + 1\n",
        "  \n",
        "        # If x is smaller, ignore right half \n",
        "        else: \n",
        "            r = mid - 1\n",
        "    # If we reach here, then the element \n",
        "    # was not present\n",
        "    print(\"not found\") \n",
        "    return -1\n",
        "\n",
        "\n",
        "def insert_sorted(arr , key , n,capacity):\n",
        "# Cannot insert more elements if n is \n",
        "# already more than or equal to capcity\n",
        "    if (n >= capacity):\n",
        "        print('array full')\n",
        "        return\n",
        "\n",
        "    i = n - 1\n",
        "    while i >= 0 and arr[i] > key:\n",
        "        arr[i + 1] = arr[i]\n",
        "        i -= 1\n",
        "\n",
        "    arr[i + 1] = key\n",
        "\n",
        "    print('insertion done')\n",
        "    return\n",
        " \n",
        "def deleteElement(arr, n, key):\n",
        "     \n",
        "    # Find position of element to be deleted \n",
        "    pos = binarySearch(arr, 0 , n-1, key) \n",
        "     \n",
        "    if (pos == -1):\n",
        "        print(\"Element not found\")\n",
        "        return  \n",
        "         \n",
        "    # Deleting element \n",
        "    for i in range(pos,n - 1):\n",
        "        arr[i] = arr[i + 1] \n",
        "    arr.pop() \n",
        "    print('deletion done')\n",
        "    return\n"
      ],
      "execution_count": 11,
      "outputs": []
    },
    {
      "cell_type": "code",
      "metadata": {
        "id": "caidaZfh6PUw",
        "outputId": "26453a5a-a2bb-4336-c4ff-0e1f4102a66e",
        "colab": {
          "base_uri": "https://localhost:8080/",
          "height": 170
        }
      },
      "source": [
        "data.sort()\n",
        "capacity=len(data)\n",
        "start = datetime.datetime.now()\n",
        "binarySearch(data , 0 , len(data)-1 , 38116127)\n",
        "deleteElement(data ,len(data), 38116127)\n",
        "insert_sorted(data , 100000006 , len(data)-1 , capacity)\n",
        "deleteElement(data ,len(data), 6899109)\n",
        "binarySearch(data , 0 , len(data)-1 , 38116127)\n",
        "insert_sorted(data , 100000009 , len(data)-1 , capacity)\n",
        "end = datetime.datetime.now()\n",
        "execution_time_sorted = end - start\n",
        "print (\"Sorted array took \",float(execution_time_sorted.total_seconds() * 1000),\" Ms\")"
      ],
      "execution_count": 12,
      "outputs": [
        {
          "output_type": "stream",
          "text": [
            "element found\n",
            "element found\n",
            "deletion done\n",
            "insertion done\n",
            "element found\n",
            "deletion done\n",
            "not found\n",
            "insertion done\n",
            "Sorted array took  21983.668  Ms\n"
          ],
          "name": "stdout"
        }
      ]
    },
    {
      "cell_type": "markdown",
      "metadata": {
        "id": "WbBVrGlt6PU0"
      },
      "source": [
        "## Binary Search Tree"
      ]
    },
    {
      "cell_type": "code",
      "metadata": {
        "id": "H3WnhpMU6PU1"
      },
      "source": [
        "h = open('search_data2.txt', 'r') \n",
        "data= h.readlines()\n",
        "type(data)\n",
        "data=[int(x[:-1]) for x in data]# binary tree node "
      ],
      "execution_count": 13,
      "outputs": []
    },
    {
      "cell_type": "code",
      "metadata": {
        "id": "M9j0IIoK6PU4"
      },
      "source": [
        "\n",
        "class Node: \n",
        "    def __init__(self, d): \n",
        "        self.val = d \n",
        "        self.left = None\n",
        "        self.right = None\n",
        "# function to convert sorted array to a \n",
        "# balanced BST \n",
        "# input : sorted array of integers \n",
        "# output: root node of balanced BST \n",
        "def sortedArrayToBST(arr): \n",
        "      \n",
        "    if not arr: \n",
        "        return None\n",
        "  \n",
        "    # find middle \n",
        "    mid = int((len(arr)) / 2)\n",
        "      \n",
        "    # make the middle element the root \n",
        "    root = Node(arr[mid]) \n",
        "      \n",
        "    # left subtree of root has all \n",
        "    # values <arr[mid] \n",
        "    root.left = sortedArrayToBST(arr[:mid]) \n",
        "      \n",
        "    # right subtree of root has all  \n",
        "    # values >arr[mid] \n",
        "    root.right = sortedArrayToBST(arr[mid+1:]) \n",
        "    return root "
      ],
      "execution_count": 14,
      "outputs": []
    },
    {
      "cell_type": "code",
      "metadata": {
        "id": "XcS83AQf6PU7"
      },
      "source": [
        "def search(root,key):\n",
        "     \n",
        "    # Base Cases: root is null or key is present at root\n",
        "    if root is None or root.val == key:\n",
        "        if(root is None):\n",
        "            print('elememnt not found')\n",
        "            return -1\n",
        "        if(root.val == key):\n",
        "            print('element found')\n",
        "            return root.val\n",
        " \n",
        "    # Key is greater than root's key\n",
        "    if root.val < key:\n",
        "        return search(root.right,key)\n",
        "   \n",
        "    # Key is smaller than root's key\n",
        "    return search(root.left,key)\n",
        "\n",
        "def insert(root,key): \n",
        "    if root is None: \n",
        "        return Node(key) \n",
        "    else:\n",
        "        if root.val == key:\n",
        "            return root\n",
        "        elif root.val < key: \n",
        "            root.right = insert(root.right, key) \n",
        "        else:\n",
        "            root.left = insert(root.left, key)\n",
        "    return root\n",
        "\n",
        "\n",
        "\n",
        "\n",
        "def minValueNode( node): \n",
        "    current = node \n",
        "  \n",
        "    # loop down to find the leftmost leaf \n",
        "    while(current.left is not None): \n",
        "        current = current.left  \n",
        "  \n",
        "    return current  \n",
        "  \n",
        "# Given a binary search tree and a key, this function \n",
        "# delete the key and returns the new root \n",
        "def deleteNode(root, key): \n",
        "  \n",
        "    # Base Case \n",
        "    if root is None: \n",
        "        return root  \n",
        "  \n",
        "    # If the key to be deleted is smaller than the root's \n",
        "    # key then it lies in  left subtree \n",
        "    if key < root.val: \n",
        "        root.left = deleteNode(root.left, key) \n",
        "  \n",
        "    # If the kye to be delete is greater than the root's key \n",
        "    # then it lies in right subtree \n",
        "    elif(key > root.val): \n",
        "        root.right = deleteNode(root.right, key) \n",
        "  \n",
        "    # If key is same as root's key, then this is the node \n",
        "    # to be deleted \n",
        "    else: \n",
        "          \n",
        "        # Node with only one child or no child \n",
        "        if root.left is None : \n",
        "            temp = root.right  \n",
        "            root = None \n",
        "            return temp  \n",
        "              \n",
        "        elif root.right is None : \n",
        "            temp = root.left  \n",
        "            root = None\n",
        "            return temp \n",
        "  \n",
        "        # Node with two children: Get the inorder successor \n",
        "        # (smallest in the right subtree) \n",
        "        temp = minValueNode(root.right) \n",
        "  \n",
        "        # Copy the inorder successor's content to this node \n",
        "        root.val = temp.val \n",
        "  \n",
        "        # Delete the inorder successor \n",
        "        root.right = deleteNode(root.right , temp.val) \n",
        "  \n",
        "  \n",
        "    return root  \n"
      ],
      "execution_count": 15,
      "outputs": []
    },
    {
      "cell_type": "code",
      "metadata": {
        "id": "aj3mWwhL6PU-",
        "outputId": "5a308b5d-0c3a-45a3-dce8-f29c23c92e6f",
        "colab": {
          "base_uri": "https://localhost:8080/",
          "height": 51
        }
      },
      "source": [
        "data.sort()\n",
        "root = sortedArrayToBST(data)\n",
        "search(root , 38116127) \n",
        "# insert(root,10000009)\n"
      ],
      "execution_count": 16,
      "outputs": [
        {
          "output_type": "stream",
          "text": [
            "element found\n"
          ],
          "name": "stdout"
        },
        {
          "output_type": "execute_result",
          "data": {
            "text/plain": [
              "38116127"
            ]
          },
          "metadata": {
            "tags": []
          },
          "execution_count": 16
        }
      ]
    },
    {
      "cell_type": "code",
      "metadata": {
        "id": "GP8_PqSZ6PVC",
        "outputId": "e37ff6dd-9310-4317-94ac-b0d8b60ae05c",
        "colab": {
          "base_uri": "https://localhost:8080/",
          "height": 68
        }
      },
      "source": [
        "start = datetime.datetime.now()\n",
        "search(root , 38116127)\n",
        "deleteNode(root , 38116127)\n",
        "insert(root , 100000006)\n",
        "deleteNode(root , 6899109)\n",
        "search(root , 38116127)\n",
        "insert(root , 100000009)\n",
        "end = datetime.datetime.now()\n",
        "execution_time_bst = end - start\n",
        "print (\"BST took \",float(execution_time_bst.total_seconds() * 1000),\" Ms\")"
      ],
      "execution_count": 17,
      "outputs": [
        {
          "output_type": "stream",
          "text": [
            "element found\n",
            "elememnt not found\n",
            "BST took  0.6679999999999999  Ms\n"
          ],
          "name": "stdout"
        }
      ]
    },
    {
      "cell_type": "markdown",
      "metadata": {
        "id": "347KhSH26PVG"
      },
      "source": [
        "## Comparison"
      ]
    },
    {
      "cell_type": "code",
      "metadata": {
        "id": "vz3MvEwQ6PVH",
        "outputId": "37197fbd-9f03-4008-ac3e-9ace893f27bf",
        "colab": {
          "base_uri": "https://localhost:8080/",
          "height": 105
        }
      },
      "source": [
        "print('performing identical operations to the three data structures that are loaded with identical data we get the following results  in terms of execution time')\n",
        "print (\"Unsorted array took \",float(execution_time_unsorted.total_seconds() * 1000),\" Ms\")\n",
        "print (\"Sorted array took \",float(execution_time_sorted.total_seconds() * 1000),\" Ms\")\n",
        "print (\"BST took \",float(execution_time_bst.total_seconds() * 1000),\" Ms\")\n"
      ],
      "execution_count": 18,
      "outputs": [
        {
          "output_type": "stream",
          "text": [
            "performing identical operations to the three data structures that are loaded with identical data we get the following results  in terms of execution time\n",
            "Unsorted array took  13111.307999999999  Ms\n",
            "Sorted array took  21983.668  Ms\n",
            "BST took  0.6679999999999999  Ms\n"
          ],
          "name": "stdout"
        }
      ]
    }
  ]
}